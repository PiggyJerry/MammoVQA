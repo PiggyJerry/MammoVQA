{
 "cells": [
  {
   "cell_type": "code",
   "execution_count": null,
   "metadata": {},
   "outputs": [
    {
     "name": "stderr",
     "output_type": "stream",
     "text": [
      "/var/folders/ft/tdx4j_ks1s33pn4xyp1nq6km0000gn/T/ipykernel_59087/1510368357.py:53: DtypeWarning: Columns (0) have mixed types. Specify dtype option on import or set low_memory=False.\n",
      "  predata_df = pd.read_csv(predata_path)\n",
      "/Users/zjy/opt/anaconda3/lib/python3.8/site-packages/pydicom/filereader.py:441: UserWarning: End of file reached before delimiter (fffe, e0dd) found in file /Volumes/Newsmy/rsna-breast-cancer-detection/train_images/27328/1289476237.dcm\n",
      "  warnings.warn(msg, UserWarning)\n"
     ]
    },
    {
     "name": "stdout",
     "output_type": "stream",
     "text": [
      "No PixelData found in DICOM file: /Volumes/Newsmy/rsna-breast-cancer-detection/train_images/27328/1289476237.dcm\n",
      "Skipping /Volumes/Newsmy/rsna-breast-cancer-detection/train_images/27328/1289476237.dcm due to processing issue.\n",
      "处理完毕。\n"
     ]
    }
   ],
   "source": [
    "import os\n",
    "import numpy as np\n",
    "import cv2\n",
    "import pydicom\n",
    "from pydicom.pixel_data_handlers.util import apply_voi_lut\n",
    "\n",
    "def fit_image(fname):\n",
    "    \"\"\"Process DICOM image to extract breast region\"\"\"\n",
    "    dicom = pydicom.dcmread(fname)\n",
    "    if 'PixelData' not in dicom:\n",
    "        print(f\"No PixelData found in DICOM file: {fname}\")\n",
    "        return None\n",
    "    \n",
    "    X = apply_voi_lut(dicom.pixel_array, dicom, prefer_lut=False)\n",
    "    X = (X - X.min()) / (X.max() - X.min())\n",
    "    \n",
    "    if dicom.PhotometricInterpretation == \"MONOCHROME1\":\n",
    "        X = 1 - X\n",
    "    \n",
    "    X = X * 255\n",
    "    \n",
    "    # Remove narrow exterior frames\n",
    "    X = X[10:-10, 10:-10]\n",
    "    \n",
    "    # Find breast region using connected components\n",
    "    output = cv2.connectedComponentsWithStats((X > 20).astype(np.uint8), 8, cv2.CV_32S)\n",
    "    stats = output[2]\n",
    "    \n",
    "    # Find largest region (breast)\n",
    "    idx = stats[1:, 4].argmax() + 1\n",
    "    x1, y1, w, h = stats[idx][:4]\n",
    "    x2 = x1 + w\n",
    "    y2 = y1 + h\n",
    "    \n",
    "    return X[y1:y2, x1:x2]\n",
    "\n",
    "def process_png_to_jpg(png_path, output_dir):\n",
    "    \"\"\"Convert PNG to processed JPG and save to output directory\"\"\"\n",
    "    # Read PNG file\n",
    "    img = cv2.imread(png_path, cv2.IMREAD_GRAYSCALE)\n",
    "    if img is None:\n",
    "        print(f\"Failed to read PNG file: {png_path}\")\n",
    "        return False\n",
    "    \n",
    "    # Create output directory\n",
    "    os.makedirs(output_dir, exist_ok=True)\n",
    "    \n",
    "    # Save as JPG\n",
    "    output_path = os.path.join(output_dir, 'img.jpg')\n",
    "    cv2.imwrite(output_path, img)\n",
    "    return True\n",
    "\n",
    "# Directory paths\n",
    "output_base_dir = 'Benchmark/RSNA'\n",
    "train_image_base_path = '/Volumes/Newsmy/rsna-breast-cancer-detection/train_images'\n",
    "\n",
    "# Process all PNG files in train_images directory\n",
    "for root, dirs, files in os.walk(train_image_base_path):\n",
    "    for file in files:\n",
    "        if file.lower().endswith('.png'):\n",
    "            # Get patient_id from directory name\n",
    "            patient_id = os.path.basename(root)\n",
    "            image_id = os.path.splitext(file)[0]\n",
    "            \n",
    "            # Construct paths\n",
    "            png_path = os.path.join(root, file)\n",
    "            output_folder = os.path.join(output_base_dir, f\"{patient_id}_{image_id}_img\")\n",
    "            \n",
    "            # Process and save image\n",
    "            if process_png_to_jpg(png_path, output_folder):\n",
    "                print(f\"Processed {patient_id}/{image_id} to {output_folder}\")\n",
    "            else:\n",
    "                print(f\"Failed to process {png_path}\")\n",
    "\n",
    "print(\"PNG to JPG conversion complete.\")"
   ]
  },
  {
   "cell_type": "code",
   "execution_count": null,
   "metadata": {},
   "outputs": [],
   "source": []
  }
 ],
 "metadata": {
  "kernelspec": {
   "display_name": "base",
   "language": "python",
   "name": "python3"
  },
  "language_info": {
   "codemirror_mode": {
    "name": "ipython",
    "version": 3
   },
   "file_extension": ".py",
   "mimetype": "text/x-python",
   "name": "python",
   "nbconvert_exporter": "python",
   "pygments_lexer": "ipython3",
   "version": "3.8.18"
  }
 },
 "nbformat": 4,
 "nbformat_minor": 2
}
